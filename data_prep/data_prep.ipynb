{
 "cells": [
  {
   "cell_type": "code",
   "execution_count": 92,
   "metadata": {},
   "outputs": [],
   "source": [
    "import sqlite3\n",
    "import os\n",
    "import shutil\n",
    "import datetime\n",
    "import re"
   ]
  },
  {
   "cell_type": "code",
   "execution_count": 93,
   "metadata": {},
   "outputs": [],
   "source": [
    "# db_name = 'blank.db'\n",
    "\n",
    "# current_time = datetime.datetime.now().strftime('%H-%M-%S')\n",
    "    \n",
    "#     # Get the file extension\n",
    "# file_extension = db_name.split('.')[-1]\n",
    "\n",
    "# new_file_name = f\"{current_time}.{file_extension}\"\n",
    "\n",
    "# # Create new file path\n",
    "# new_file_path = f\"old/{new_file_name}\"\n",
    "\n",
    "# # Copy and rename the file\n",
    "# shutil.copy2(db_name, new_file_path)"
   ]
  },
  {
   "cell_type": "code",
   "execution_count": 94,
   "metadata": {},
   "outputs": [
    {
     "data": {
      "text/plain": [
       "'parsed_data/cs202109.db'"
      ]
     },
     "execution_count": 94,
     "metadata": {},
     "output_type": "execute_result"
    }
   ],
   "source": [
    "blank_name = 'blank.db'\n",
    "excel_name = 'cs202109'\n",
    "db_name = 'parsed_data/' + excel_name + '.db'\n",
    "if os.path.isfile(db_name):\n",
    "    os.remove(db_name)\n",
    "shutil.copy2(blank_name, db_name)"
   ]
  },
  {
   "cell_type": "code",
   "execution_count": 95,
   "metadata": {},
   "outputs": [],
   "source": [
    "#connect\n",
    "conn = sqlite3.connect(db_name)\n",
    "c = conn.cursor()"
   ]
  },
  {
   "cell_type": "code",
   "execution_count": 96,
   "metadata": {},
   "outputs": [],
   "source": [
    "#create tables\n",
    "\n",
    "# c.execute(\"DROP TABLE IF EXISTS descriptions;\")\n",
    "# c.execute(\"DROP TABLE IF EXISTS data;\")\n",
    "# c.execute(\"\"\"CREATE TABLE descriptions (\n",
    "#     id INTEGER PRIMARY KEY,\n",
    "#     description TEXT,\n",
    "#     x_unit TEXT,\n",
    "#     y_unit TEXT\n",
    "# );\"\"\")\n",
    "# c.execute(\"\"\"CREATE TABLE data (\n",
    "#     id INTEGER PRIMARY KEY,\n",
    "#     description_id INTEGER,\n",
    "#     x_text TEXT,\n",
    "#     x_value INTEGER,\n",
    "#     x_datetime DATETIME,\n",
    "#     value REAL,\n",
    "#     name TEXT,\n",
    "#     FOREIGN KEY(description_id) REFERENCES descriptions(id)\n",
    "# );\"\"\")"
   ]
  },
  {
   "cell_type": "code",
   "execution_count": 97,
   "metadata": {},
   "outputs": [],
   "source": [
    "#delete all\n",
    "# c.execute(\"DELETE FROM descriptions\")\n",
    "# c.execute(\"DELETE FROM data\")"
   ]
  },
  {
   "cell_type": "code",
   "execution_count": 98,
   "metadata": {},
   "outputs": [
    {
     "name": "stdout",
     "output_type": "stream",
     "text": [
      "1\n"
     ]
    }
   ],
   "source": [
    "current_desc_id = 1\n",
    "c.execute(f\"SELECT * FROM descriptions WHERE id = (SELECT MAX(id) FROM descriptions);\")\n",
    "result = c.fetchall()\n",
    "if result:\n",
    "    current_desc_id = result[0][0] + 1\n",
    "print(current_desc_id)"
   ]
  },
  {
   "cell_type": "code",
   "execution_count": 99,
   "metadata": {},
   "outputs": [
    {
     "name": "stdout",
     "output_type": "stream",
     "text": [
      "1\n"
     ]
    }
   ],
   "source": [
    "current_data_id = 1\n",
    "c.execute(f\"SELECT * FROM data WHERE id = (SELECT MAX(id) FROM data);\")\n",
    "result = c.fetchall()\n",
    "if result:\n",
    "    current_data_id = result[0][0] + 1\n",
    "print(current_data_id)"
   ]
  },
  {
   "cell_type": "code",
   "execution_count": 100,
   "metadata": {},
   "outputs": [],
   "source": [
    "def insert_description(description, x_unit, y_unit):\n",
    "    c.execute(\"SELECT id FROM descriptions WHERE description = ?\", (description,))\n",
    "    result = c.fetchone()\n",
    "    if result:\n",
    "        return result[0]\n",
    "    global current_desc_id\n",
    "    # Insert a row of data into the 'descriptions' table\n",
    "    c.execute(f\"INSERT INTO descriptions VALUES ({current_desc_id}, '{description}', '{x_unit}', '{y_unit}')\")\n",
    "    current_desc_id += 1\n",
    "    return current_desc_id - 1\n",
    "\n",
    "def insert_data(desc_id, x_text, x_value, x_datetime, value, name):\n",
    "    global current_data_id\n",
    "    # Insert a row of data into the 'data' table\n",
    "    c.execute(\"INSERT INTO data VALUES (?, ?, ?, ?, ?, ?, ?)\", \n",
    "          (current_data_id, desc_id, x_text, x_value, x_datetime, value, name))\n",
    "    current_data_id += 1\n",
    "    return current_data_id - 1"
   ]
  },
  {
   "cell_type": "code",
   "execution_count": 101,
   "metadata": {},
   "outputs": [],
   "source": [
    "def extract_number(s):\n",
    "    match = re.search(r'\\d+', s)\n",
    "    return int(match.group()) if match else None"
   ]
  },
  {
   "cell_type": "code",
   "execution_count": 102,
   "metadata": {},
   "outputs": [],
   "source": [
    "input_string = \"\"\"\n",
    "CSNg ar cietušajiem\t4056\t3711\t3925\t4540\t4442\t4482\t4766\t5083\t5379\t5081\t4466\t4302\t4781\t4196\t3160\t3193\t3386\t3358\t3489\t3728\t3692\t3792\t3875\t3975\t3729\t3403\n",
    "\t947\t768\t850\t963\t916\t822\t701\t775\t691\t633\t547\t435\t519\t403\t258\t232\t270\t174\t211\t210\t196\t187\t166\t199\t173\t201\n",
    "Bojā gājuši (30 dienas)\t660\t594\t567\t677\t652\t635\t558\t559\t532\t516\t442\t407\t419\t316\t254\t218\t179\t177\t179\t212\t188\t158\t136\t148\t132\t139\n",
    "\t203\t139\t170\t183\t183\t125\t111\t160\t119\t113\t96\t84\t91\t58\t36\t22\t26\t25\t10\t29\t18\t17\t12\t11\t14\t7\n",
    "Ievainoti\t4854\t4280\t4632\t5364\t5196\t5402\t5811\t6259\t6600\t6416\t5600\t5404\t6088\t5408\t3930\t4023\t4224\t4179\t4338\t4603\t4566\t4648\t4824\t4798\t4553\t4059\n",
    "\t1294\t1066\t1142\t1282\t1234\t1228\t989\t1088\t955\t940\t821\t655\t780\t565\t372\t317\t347\t277\t302\t296\t280\t259\t244\t272\t232\t263\n",
    "\"\"\"\n"
   ]
  },
  {
   "cell_type": "code",
   "execution_count": 103,
   "metadata": {},
   "outputs": [],
   "source": [
    "# # cs202109.xlsx\n",
    "\n",
    "# years = [\"1995\", \"1996\", \"1997\", \"1998\", \"1999\", \"2000\", \"2001\", \"2002\", \"2003\", \"2004\", \"2005\", \"2006\", \"2007\", \"2008\", \"2009\", \"2010\", \"2011\", \"2012\", \"2013\", \"2014\", \"2015\", \"2016\", \"2017\", \"2018\", \"2019\", \"2020\"]\n",
    "\n",
    "# lines = input_string.splitlines()\n",
    "# alk = False\n",
    "# description = \"\"\n",
    "# description_place = -1\n",
    "# description_id = -1\n",
    "\n",
    "# for line in lines:\n",
    "#     if line == \"\":\n",
    "#         continue\n",
    "#     words = line.split()\n",
    "#     if not alk:\n",
    "#         for i, word in enumerate(words):\n",
    "#             if word.isdigit():\n",
    "#                 description_place = i\n",
    "#                 break\n",
    "#         description = \" \".join(words[:description_place])\n",
    "#         description_id = insert_description(description, \"gads\", \"skaits\")\n",
    "#     else:\n",
    "#         description += \" vadītājs bija alkohola reibumā\"\n",
    "#         description_id = insert_description(description, \"gads\", \"skaits\")\n",
    "#     data = words[description_place:]\n",
    "#     for i, data_i in enumerate(data):\n",
    "#         insert_data(description_id, years[i], int(years[i]), datetime.date(int(years[i]), 1, 1), int(data_i), \"\")\n",
    "#     alk = not alk\n",
    "        \n"
   ]
  },
  {
   "cell_type": "code",
   "execution_count": 104,
   "metadata": {},
   "outputs": [],
   "source": [
    "# # cs202108.xlsx\n",
    "# years = [\"2010\", \"2011\", \"2012\", \"2013\", \"2014\", \"2015\", \"2016\", \"2017\", \"2018\", \"2019\", \"2020\"]\n",
    "\n",
    "\n",
    "# lines = input_string.splitlines()\n",
    "# page = \"CSNg ar bojā ievainotajiem Rīgā\"\n",
    "# vehicle_count = \"\"\n",
    "# for line in lines:\n",
    "#     if line.startswith(\"Divu\") or line.startswith(\"Viena\"):\n",
    "#         vehicle_count = line\n",
    "#         continue\n",
    "#     description = \"\"\n",
    "#     description_id = -1\n",
    "#     words = line.split()\n",
    "#     year_counter = 0\n",
    "#     for i, word in enumerate(words):\n",
    "#         if word.isdigit():\n",
    "#             if not description:\n",
    "#                 description = \" \".join(words[:i])\n",
    "#                 if vehicle_count:\n",
    "#                     full_description = f\"{page} - {vehicle_count} - {description},\"\n",
    "#                 else:\n",
    "#                     full_description = f\"{page} - {description},\"\n",
    "#                 description_id = insert_description(full_description, \"gads\", \"skaits\")\n",
    "#             insert_data(description_id, years[year_counter], int(years[year_counter]), datetime.date(int(years[year_counter]), 1,1), int(word), \"\")\n",
    "#             year_counter += 1\n"
   ]
  },
  {
   "cell_type": "code",
   "execution_count": 105,
   "metadata": {},
   "outputs": [],
   "source": [
    "# #cs202107.xlsx\n",
    "# columns = [\"gads\",\t\"CSNg ar cietušajiem\",\t\"Bojā gājuši (30 dienas)\",\t\"Ievainoti (kopā)\",\t\"Smagi ievainoti\"]\t\t\t\n",
    "\n",
    "\n",
    "# months = [\"Janvāris\", \"Februāris\", \"Marts\", \"Aprīlis\", \"Maijs\", \"Jūnijs\", \"Jūlijs\", \"Augusts\", \"Septembris\", \"Oktobris\", \"Novembris\", \"Decembris\" ]\n",
    "# lines = input_string.splitlines()\n",
    "\n",
    "# years = []\n",
    "\n",
    "# year_counter = 1\n",
    "# description_counter = 1\n",
    "# alk = False\n",
    "\n",
    "# year_index = -1\n",
    "\n",
    "# description = \"\"\n",
    "# alk_description = \"\"\n",
    "\n",
    "# description_id = -1\n",
    "# alk_description_id = -1\n",
    "\n",
    "# year = \"\"\n",
    "# year_int = -1\n",
    "# year_datetime = None\n",
    "\n",
    "# years_done = []\n",
    "\n",
    "# lines_clean = []\n",
    "\n",
    "\n",
    "# for line in lines:\n",
    "#     line = line.replace('\\t', ' ')\n",
    "#     if line.isspace() or not line:\n",
    "#         continue\n",
    "#     else:\n",
    "#         lines_clean.append(line)\n",
    "\n",
    "# for line in lines_clean:\n",
    "#     words = line.split()\n",
    "\n",
    "#     if year_counter == 3:   #every third line has a year\n",
    "#         year_counter = 1\n",
    "#     if year_counter == 1:\n",
    "#         if not words[0][0].isdigit():   #if first is a description\n",
    "#             for i, word in enumerate(words):    #find the year\n",
    "#                 if word[0].isdigit():\n",
    "#                     year_index = i\n",
    "#                     break\n",
    "#         else:\n",
    "#             year_index = 0  #else, year is the first word\n",
    "#         year = words[year_index]    #extract info about the year\n",
    "#         year_int = extract_number(year)\n",
    "#         year_datetime = datetime.date(year_int, 1, 1)\n",
    "\n",
    "#     if description_counter == 5: #every fith line has a description\n",
    "#         description_counter = 1\n",
    "#     if description_counter == 1:    \n",
    "#         description = ' '.join(words[:year_index])\n",
    "#         description_id = insert_description(description, x_unit=\"menesis\", y_unit=\"skaits\")\n",
    "#         alk_description = description + \" alkohola ietekmē\"\n",
    "#         alk_description_id = insert_description(alk_description, x_unit=\"menesis\", y_unit=\"skaits\")\n",
    "\n",
    "#     cursor = 0\n",
    "#     if year_counter == 1:\n",
    "#         cursor = year_index + 1\n",
    "#     year_enum = enumerate(words[cursor:])\n",
    "#     for i, word in year_enum:\n",
    "#         month = months[i]\n",
    "#         if alk:\n",
    "#             insert_data(alk_description_id, f\"{month} {year}\", month, datetime.date(year_int, i + 1, 1), word, \"\")\n",
    "#         else:\n",
    "#             insert_data(description_id, f\"{month} {year}\", month, datetime.date(year_int, i + 1, 1), word, \"\")\n",
    "#     year_counter += 1\n",
    "#     description_counter += 1\n",
    "#     alk = not alk\n",
    "    "
   ]
  },
  {
   "cell_type": "code",
   "execution_count": 106,
   "metadata": {},
   "outputs": [],
   "source": [
    "# #cs202103.xlsx\n",
    "\n",
    "# dates_unprocessed = date_string.split()\n",
    "# dates = []\n",
    "# for date in dates_unprocessed:\n",
    "#     possible_date = extract_number(date)\n",
    "#     if possible_date is not None:\n",
    "#         dates.append(possible_date)\n",
    "\n",
    "# lines = input_string.splitlines()\n",
    "\n",
    "# for line in lines:\n",
    "#     if not(\"T.sk.\" in line or \"no tiem\" in line):\n",
    "#         description = \"\"\n",
    "#     words = line.split()\n",
    "#     description_id = 0\n",
    "#     date_cursor = 0\n",
    "#     data = []\n",
    "#     for word in words:\n",
    "#         if word.isdigit():  \n",
    "#             if description_id == 0:\n",
    "#                 description_id = insert_description(description, \"gads\", \"skaits\")\n",
    "#             year = dates[date_cursor]\n",
    "#             year_int = year\n",
    "#             year_datetime = datetime.date(year_int, 1, 1)\n",
    "#             insert_data(description_id, str(year), year_int, year_datetime, word, \"\")\n",
    "#             date_cursor += 1\n",
    "#         else:\n",
    "#             description += word\n",
    "#             description += \" \""
   ]
  },
  {
   "cell_type": "code",
   "execution_count": 107,
   "metadata": {},
   "outputs": [],
   "source": [
    "# #cs202104.xlsxl\n",
    "# column_ids = [0]\n",
    "# for column in columns:\n",
    "#     if column != \"gads\":\n",
    "#         id = insert_description(column, \"gads\", \"skaits\")\n",
    "#         column_ids.append(id)\n",
    "# lines = input_string.splitlines()\n",
    "# for line in lines:\n",
    "#     words = line.split()\n",
    "#     year = 0\n",
    "#     year_int = 0\n",
    "#     year_datetime = datetime.date(1, 1, 1)\n",
    "#     for word, col_id in zip(words, column_ids):\n",
    "#         if year == 0:\n",
    "#             year = word\n",
    "#             year_int = extract_number(word)\n",
    "#             year_datetime = datetime.date(year_int, 1, 1)\n",
    "#         else:\n",
    "#             insert_data(col_id, year, year_int, year_datetime, word, \"\")"
   ]
  },
  {
   "cell_type": "code",
   "execution_count": 108,
   "metadata": {},
   "outputs": [],
   "source": [
    "# Save (commit) the changes\n",
    "conn.commit()\n",
    "\n",
    "# c.execute(\"SELECT name FROM sqlite_master WHERE type='table';\")\n",
    "# tables = c.fetchall()\n",
    "\n",
    "# # Loop through all tables and print out their contents\n",
    "# for table in tables:\n",
    "#     print(f\"Table: {table[0]}\")\n",
    "#     c.execute(f\"SELECT * FROM {table[0]};\")\n",
    "#     rows = c.fetchall()\n",
    "#     for row in rows:\n",
    "#         print(row)"
   ]
  },
  {
   "cell_type": "code",
   "execution_count": 109,
   "metadata": {},
   "outputs": [],
   "source": [
    "# Close the connection\n",
    "conn.close()"
   ]
  }
 ],
 "metadata": {
  "kernelspec": {
   "display_name": "venv",
   "language": "python",
   "name": "python3"
  },
  "language_info": {
   "codemirror_mode": {
    "name": "ipython",
    "version": 3
   },
   "file_extension": ".py",
   "mimetype": "text/x-python",
   "name": "python",
   "nbconvert_exporter": "python",
   "pygments_lexer": "ipython3",
   "version": "3.11.0"
  }
 },
 "nbformat": 4,
 "nbformat_minor": 2
}
