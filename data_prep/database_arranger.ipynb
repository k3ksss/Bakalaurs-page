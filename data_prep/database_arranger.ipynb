{
 "cells": [
  {
   "cell_type": "code",
   "execution_count": 1,
   "metadata": {},
   "outputs": [],
   "source": [
    "import sqlite3\n",
    "import os\n",
    "import json"
   ]
  },
  {
   "cell_type": "code",
   "execution_count": 2,
   "metadata": {},
   "outputs": [],
   "source": [
    "folder_path = 'parsed_data'"
   ]
  },
  {
   "cell_type": "code",
   "execution_count": 3,
   "metadata": {},
   "outputs": [],
   "source": [
    "\n",
    "def iterate_files(folder_path):\n",
    "    returnlist = []\n",
    "    for filename in os.listdir(folder_path):\n",
    "        db_path = f\"{folder_path}/{filename}\"\n",
    "        conn = sqlite3.connect(db_path)\n",
    "        cursor = conn.cursor()\n",
    "\n",
    "        cursor.execute(\"SELECT * FROM descriptions\")\n",
    "        rows = cursor.fetchall()\n",
    "        for row in rows:\n",
    "            data = {\"database\":db_path, \"description\": row[1], \"id\": row[0], \"x_unit\":row[2]}            \n",
    "            returnlist.append(data)\n",
    "        conn.close()\n",
    "    return returnlist\n",
    " "
   ]
  },
  {
   "cell_type": "code",
   "execution_count": 4,
   "metadata": {},
   "outputs": [],
   "source": [
    "returnlist = iterate_files(folder_path)   \n",
    "with open(\"description_list\", 'w') as f:\n",
    "    json.dump(returnlist, f)"
   ]
  },
  {
   "cell_type": "code",
   "execution_count": 5,
   "metadata": {},
   "outputs": [
    {
     "name": "stdout",
     "output_type": "stream",
     "text": [
      "Duplicate description: CSNg ar cietušajiem in parsed_data/cs202104.db and parsed_data/cs202107.db\n",
      "Duplicate description: CSNg ar cietušajiem in parsed_data/cs202104.db and parsed_data/cs202109.db\n",
      "Duplicate description: Bojā gājuši (30 dienas) in parsed_data/cs202104.db and parsed_data/cs202109.db\n",
      "Duplicate description: CSNg ar cietušajiem in parsed_data/cs202107.db and parsed_data/cs202107.db\n",
      "Duplicate description: CSNg ar cietušajiem in parsed_data/cs202107.db and parsed_data/cs202109.db\n",
      "Duplicate description: CSNg ar cietušajiem in parsed_data/cs202109.db and parsed_data/cs202107.db\n",
      "Duplicate description: CSNg ar cietušajiem in parsed_data/cs202109.db and parsed_data/cs202109.db\n",
      "Duplicate description: Bojā gājuši (30 dienas) in parsed_data/cs202109.db and parsed_data/cs202109.db\n",
      "[{'database': 'parsed_data/cs202107.db', 'description': 'CSNg ar cietušajiem', 'id': 3, 'x_unit': 'menesis'}, {'database': 'parsed_data/cs202109.db', 'description': 'CSNg ar cietušajiem', 'id': 1, 'x_unit': 'gads'}, {'database': 'parsed_data/cs202109.db', 'description': 'Bojā gājuši (30 dienas)', 'id': 3, 'x_unit': 'gads'}]\n"
     ]
    }
   ],
   "source": [
    "def duplicate_descriptions(arr):\n",
    "    seen_descriptions = set()\n",
    "    duplicates = []\n",
    "    for item in arr:\n",
    "        if item[\"description\"] in seen_descriptions:\n",
    "            duplicates.append(item)\n",
    "        seen_descriptions.add(item[\"description\"])\n",
    "    for item in arr:\n",
    "        for duplicate in duplicates:\n",
    "            if item[\"description\"] == duplicate[\"description\"]:\n",
    "                print(f\"Duplicate description: {item['description']} in {item['database']} and {duplicate['database']}\")\n",
    "    return duplicates\n",
    "print(duplicate_descriptions(returnlist))"
   ]
  }
 ],
 "metadata": {
  "kernelspec": {
   "display_name": "venv",
   "language": "python",
   "name": "python3"
  },
  "language_info": {
   "codemirror_mode": {
    "name": "ipython",
    "version": 3
   },
   "file_extension": ".py",
   "mimetype": "text/x-python",
   "name": "python",
   "nbconvert_exporter": "python",
   "pygments_lexer": "ipython3",
   "version": "3.11.0"
  }
 },
 "nbformat": 4,
 "nbformat_minor": 2
}
